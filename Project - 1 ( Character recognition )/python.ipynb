{
  "nbformat": 4,
  "nbformat_minor": 0,
  "metadata": {
    "colab": {
      "provenance": []
    },
    "kernelspec": {
      "name": "python3",
      "display_name": "Python 3"
    },
    "language_info": {
      "name": "python"
    }
  },
  "cells": [
    {
      "cell_type": "code",
      "source": [
        "from sklearn.datasets import fetch_openml\n",
        "import numpy as np\n",
        "import pandas as pd\n",
        "import matplotlib.pyplot as plt\n",
        "import matplotlib\n",
        "from sklearn.model_selection import train_test_split\n",
        "from sklearn.linear_model import LogisticRegression\n",
        "from tkinter import *\n",
        "from PIL import Image,ImageGrab\n",
        "\n",
        "mnist=fetch_openml('MNIST_784')\n",
        "\n",
        "x=mnist['data']\n",
        "y=mnist['target']\n",
        "x=np.array(x)\n",
        "some_digit=x[36001]\n",
        "some_digit_img=some_digit.reshape(28,28)\n",
        "\n",
        "xtrain,xtest,ytrain,ytest=train_test_split(x,y)\n",
        "\n",
        "ytrain=ytrain.astype(int)\n",
        "ytest=ytest.astype(int)\n",
        "\n",
        "ytrain_2=(ytrain==2)\n",
        "ytest_2=(ytest==2)\n",
        "\n",
        "log=LogisticRegression()\n",
        "\n",
        "log.fit(xtrain,ytrain_2)\n",
        "\n",
        "log.predict([some_digit])"
      ],
      "metadata": {
        "id": "oBogsYyQAvX9",
        "colab": {
          "base_uri": "https://localhost:8080/"
        },
        "outputId": "1cfb3ec9-2f49-49ee-a6c7-819f28565050"
      },
      "execution_count": 1,
      "outputs": [
        {
          "output_type": "stream",
          "name": "stderr",
          "text": [
            "/usr/local/lib/python3.8/dist-packages/sklearn/linear_model/_logistic.py:814: ConvergenceWarning: lbfgs failed to converge (status=1):\n",
            "STOP: TOTAL NO. of ITERATIONS REACHED LIMIT.\n",
            "\n",
            "Increase the number of iterations (max_iter) or scale the data as shown in:\n",
            "    https://scikit-learn.org/stable/modules/preprocessing.html\n",
            "Please also refer to the documentation for alternative solver options:\n",
            "    https://scikit-learn.org/stable/modules/linear_model.html#logistic-regression\n",
            "  n_iter_i = _check_optimize_result(\n"
          ]
        },
        {
          "output_type": "execute_result",
          "data": {
            "text/plain": [
              "array([ True])"
            ]
          },
          "metadata": {},
          "execution_count": 1
        }
      ]
    }
  ]
}